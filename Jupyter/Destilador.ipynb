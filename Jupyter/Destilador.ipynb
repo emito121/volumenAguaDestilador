{
  "nbformat": 4,
  "nbformat_minor": 0,
  "metadata": {
    "colab": {
      "name": "Destilador.ipynb",
      "provenance": []
    },
    "kernelspec": {
      "name": "python3",
      "display_name": "Python 3"
    },
    "language_info": {
      "name": "python"
    }
  },
  "cells": [
    {
      "cell_type": "code",
      "execution_count": 1,
      "metadata": {
        "id": "esXlPnSA3TPa"
      },
      "outputs": [],
      "source": [
        "vAgua = 1482\n",
        "vAire = 342.2"
      ]
    },
    {
      "cell_type": "code",
      "source": [
        "#tenemos que v = d/t, entonces t = d/v\n",
        "#tTotal = tAgua + tAire = dAgua/vAgua + dAire/vAire\n",
        "#si dAgua = dTotal - dAire, entonces tTotal = (dTotal - dAire)/vAgua + dAire/vAire\n",
        "\n",
        "#dTotal = dTotal/vAgua -dAire/vAgua + dAire/vAire ====) dTotal - dTotal/vAgua = dAire(-1/vAgua + 1/vAire) ===) dAire = (dTotal(1 - 1/vAgua)) / (-1/vAgua + 1/vAire)\n",
        "#dAgua = dTotal - dAire\n",
        "#%llenado = (dAgua/dTotal) * 100 "
      ],
      "metadata": {
        "id": "ZbW_gqFN30c6"
      },
      "execution_count": null,
      "outputs": []
    },
    {
      "cell_type": "code",
      "source": [
        "def nivelAgua(volumenRecipiente, tTotal):\n",
        "  vAgua = 1482\n",
        "  vAire = 342.2\n",
        "  dAire = (volumenRecipiente*(1 - 1/vAgua)) / (-1/vAgua + 1/vAire)\n",
        "  dAgua = (tTotal - dAire/vAire)*vAgua\n",
        "  ppAgua = (dAgua/volumenRecipiente) * 100\n",
        "  return ppAgua"
      ],
      "metadata": {
        "id": "Cnjf2ld7422t"
      },
      "execution_count": null,
      "outputs": []
    },
    {
      "cell_type": "code",
      "source": [
        "nivelAgua(1, 1*10**-6)"
      ],
      "metadata": {
        "colab": {
          "base_uri": "https://localhost:8080/"
        },
        "id": "teinMUoL9iLJ",
        "outputId": "36aab97d-e8cf-4192-e02d-ba2498238c74"
      },
      "execution_count": null,
      "outputs": [
        {
          "output_type": "execute_result",
          "data": {
            "text/plain": [
              "-192563.63491984562"
            ]
          },
          "metadata": {},
          "execution_count": 14
        }
      ]
    },
    {
      "cell_type": "code",
      "source": [
        "#tTotal = tAgua + tAire = dAgua/vAgua + dAire/vAire\n",
        "volumenTanque = 1\n",
        "valores = [[(volumenTanque*(pp/100)/vAgua + volumenTanque*(1-(pp/100))/vAire), pp] for pp in range(0,100,1)]\n",
        "\n",
        "import numpy as np\n",
        "valoresNP = np.array(valores)"
      ],
      "metadata": {
        "id": "mMN6j8AY97Zu"
      },
      "execution_count": 20,
      "outputs": []
    },
    {
      "cell_type": "code",
      "source": [
        "import matplotlib.pyplot as plt\n",
        "x = valoresNP[:,0]\n",
        "y = valoresNP[:,1]\n",
        "plt.scatter(x, y)\n",
        "plt.show()"
      ],
      "metadata": {
        "colab": {
          "base_uri": "https://localhost:8080/",
          "height": 264
        },
        "id": "OfKTlP7isnZI",
        "outputId": "4ae4aedf-66f8-4df3-e41e-a1cb31b42c06"
      },
      "execution_count": 34,
      "outputs": [
        {
          "output_type": "display_data",
          "data": {
            "text/plain": [
              "<Figure size 432x288 with 1 Axes>"
            ],
            "image/png": "[encoded data removed]"
          },
          "metadata": {
            "needs_background": "light"
          }
        }
      ]
    },
    {
      "cell_type": "code",
      "source": [
        ""
      ],
      "metadata": {
        "colab": {
          "base_uri": "https://localhost:8080/"
        },
        "id": "tZkW2KwmwHa_",
        "outputId": "01755234-324e-404e-f8d7-1ed5cb2bda90"
      },
      "execution_count": 32,
      "outputs": [
        {
          "output_type": "execute_result",
          "data": {
            "text/plain": [
              "-2.2475050505050504e-05"
            ]
          },
          "metadata": {},
          "execution_count": 32
        }
      ]
    },
    {
      "cell_type": "code",
      "source": [
        "x "
      ],
      "metadata": {
        "colab": {
          "base_uri": "https://localhost:8080/"
        },
        "id": "lQw3TE5qvrJd",
        "outputId": "98e0794f-c17f-4b2f-9af7-ef8db517bd7b"
      },
      "execution_count": 29,
      "outputs": [
        {
          "output_type": "execute_result",
          "data": {
            "text/plain": [
              "array([0.00292227, 0.00289979, 0.00287732, 0.00285484, 0.00283237,\n",
              "       0.00280989, 0.00278742, 0.00276494, 0.00274247, 0.00271999,\n",
              "       0.00269752, 0.00267504, 0.00265257, 0.00263009, 0.00260762,\n",
              "       0.00258514, 0.00256267, 0.00254019, 0.00251772, 0.00249524,\n",
              "       0.00247277, 0.00245029, 0.00242782, 0.00240534, 0.00238287,\n",
              "       0.00236039, 0.00233792, 0.00231544, 0.00229297, 0.00227049,\n",
              "       0.00224802, 0.00222554, 0.00220307, 0.00218059, 0.00215812,\n",
              "       0.00213564, 0.00211317, 0.00209069, 0.00206822, 0.00204574,\n",
              "       0.00202327, 0.00200079, 0.00197832, 0.00195584, 0.00193337,\n",
              "       0.00191089, 0.00188842, 0.00186594, 0.00184347, 0.00182099,\n",
              "       0.00179852, 0.00177604, 0.00175357, 0.00173109, 0.00170862,\n",
              "       0.00168614, 0.00166367, 0.00164119, 0.00161872, 0.00159624,\n",
              "       0.00157377, 0.00155129, 0.00152882, 0.00150634, 0.00148387,\n",
              "       0.00146139, 0.00143892, 0.00141644, 0.00139397, 0.00137149,\n",
              "       0.00134901, 0.00132654, 0.00130406, 0.00128159, 0.00125911,\n",
              "       0.00123664, 0.00121416, 0.00119169, 0.00116921, 0.00114674,\n",
              "       0.00112426, 0.00110179, 0.00107931, 0.00105684, 0.00103436,\n",
              "       0.00101189, 0.00098941, 0.00096694, 0.00094446, 0.00092199,\n",
              "       0.00089951, 0.00087704, 0.00085456, 0.00083209, 0.00080961,\n",
              "       0.00078714, 0.00076466, 0.00074219, 0.00071971, 0.00069724])"
            ]
          },
          "metadata": {},
          "execution_count": 29
        }
      ]
    },
    {
      "cell_type": "code",
      "source": [
        "y"
      ],
      "metadata": {
        "colab": {
          "base_uri": "https://localhost:8080/"
        },
        "id": "GQu5cXzuv-Fw",
        "outputId": "c067978a-b64e-46c3-8031-b5930ce8a20a"
      },
      "execution_count": 30,
      "outputs": [
        {
          "output_type": "execute_result",
          "data": {
            "text/plain": [
              "array([ 0.,  1.,  2.,  3.,  4.,  5.,  6.,  7.,  8.,  9., 10., 11., 12.,\n",
              "       13., 14., 15., 16., 17., 18., 19., 20., 21., 22., 23., 24., 25.,\n",
              "       26., 27., 28., 29., 30., 31., 32., 33., 34., 35., 36., 37., 38.,\n",
              "       39., 40., 41., 42., 43., 44., 45., 46., 47., 48., 49., 50., 51.,\n",
              "       52., 53., 54., 55., 56., 57., 58., 59., 60., 61., 62., 63., 64.,\n",
              "       65., 66., 67., 68., 69., 70., 71., 72., 73., 74., 75., 76., 77.,\n",
              "       78., 79., 80., 81., 82., 83., 84., 85., 86., 87., 88., 89., 90.,\n",
              "       91., 92., 93., 94., 95., 96., 97., 98., 99.])"
            ]
          },
          "metadata": {},
          "execution_count": 30
        }
      ]
    },
    {
      "cell_type": "code",
      "source": [
        "valoresNP.shape"
      ],
      "metadata": {
        "colab": {
          "base_uri": "https://localhost:8080/"
        },
        "id": "IVG5XB7Wtc7B",
        "outputId": "40aa26df-c34a-4c99-f564-dadc1684f809"
      },
      "execution_count": 23,
      "outputs": [
        {
          "output_type": "execute_result",
          "data": {
            "text/plain": [
              "(100, 2)"
            ]
          },
          "metadata": {},
          "execution_count": 23
        }
      ]
    },
    {
      "cell_type": "code",
      "source": [
        "pendiente = -44493.80593087\n",
        "pendiente"
      ],
      "metadata": {
        "colab": {
          "base_uri": "https://localhost:8080/"
        },
        "id": "B38yArQ1t2JJ",
        "outputId": "ae37e248-d7c2-466f-91b4-02488a9f9e41"
      },
      "execution_count": 41,
      "outputs": [
        {
          "output_type": "execute_result",
          "data": {
            "text/plain": [
              "-44493.80593087"
            ]
          },
          "metadata": {},
          "execution_count": 41
        }
      ]
    },
    {
      "cell_type": "code",
      "source": [
        "valoresRecta = [[tiempo, tiempo*pendiente+131] for tiempo in x] "
      ],
      "metadata": {
        "id": "1dcI9cq-wtFA"
      },
      "execution_count": 46,
      "outputs": []
    },
    {
      "cell_type": "code",
      "source": [
        "valoresRecta"
      ],
      "metadata": {
        "colab": {
          "base_uri": "https://localhost:8080/"
        },
        "id": "_4b1xHuex-P1",
        "outputId": "dc079250-7ea5-470a-f1fa-c897166748fc"
      },
      "execution_count": 47,
      "outputs": [
        {
          "output_type": "execute_result",
          "data": {
            "text/plain": [
              "[[array([0.00292227]), array([0.97718898])],\n",
              " [array([0.00289979]), array([1.97718898])],\n",
              " [array([0.00287732]), array([2.97718898])],\n",
              " [array([0.00285484]), array([3.97718898])],\n",
              " [array([0.00283237]), array([4.97718898])],\n",
              " [array([0.00280989]), array([5.97718898])],\n",
              " [array([0.00278742]), array([6.97718898])],\n",
              " [array([0.00276494]), array([7.97718898])],\n",
              " [array([0.00274247]), array([8.97718898])],\n",
              " [array([0.00271999]), array([9.97718898])],\n",
              " [array([0.00269752]), array([10.97718898])],\n",
              " [array([0.00267504]), array([11.97718898])],\n",
              " [array([0.00265257]), array([12.97718898])],\n",
              " [array([0.00263009]), array([13.97718898])],\n",
              " [array([0.00260762]), array([14.97718898])],\n",
              " [array([0.00258514]), array([15.97718898])],\n",
              " [array([0.00256267]), array([16.97718898])],\n",
              " [array([0.00254019]), array([17.97718898])],\n",
              " [array([0.00251772]), array([18.97718898])],\n",
              " [array([0.00249524]), array([19.97718898])],\n",
              " [array([0.00247277]), array([20.97718898])],\n",
              " [array([0.00245029]), array([21.97718898])],\n",
              " [array([0.00242782]), array([22.97718898])],\n",
              " [array([0.00240534]), array([23.97718898])],\n",
              " [array([0.00238287]), array([24.97718898])],\n",
              " [array([0.00236039]), array([25.97718898])],\n",
              " [array([0.00233792]), array([26.97718898])],\n",
              " [array([0.00231544]), array([27.97718898])],\n",
              " [array([0.00229297]), array([28.97718898])],\n",
              " [array([0.00227049]), array([29.97718898])],\n",
              " [array([0.00224802]), array([30.97718898])],\n",
              " [array([0.00222554]), array([31.97718898])],\n",
              " [array([0.00220307]), array([32.97718898])],\n",
              " [array([0.00218059]), array([33.97718898])],\n",
              " [array([0.00215812]), array([34.97718898])],\n",
              " [array([0.00213564]), array([35.97718898])],\n",
              " [array([0.00211317]), array([36.97718898])],\n",
              " [array([0.00209069]), array([37.97718898])],\n",
              " [array([0.00206822]), array([38.97718898])],\n",
              " [array([0.00204574]), array([39.97718898])],\n",
              " [array([0.00202327]), array([40.97718898])],\n",
              " [array([0.00200079]), array([41.97718898])],\n",
              " [array([0.00197832]), array([42.97718898])],\n",
              " [array([0.00195584]), array([43.97718898])],\n",
              " [array([0.00193337]), array([44.97718898])],\n",
              " [array([0.00191089]), array([45.97718898])],\n",
              " [array([0.00188842]), array([46.97718898])],\n",
              " [array([0.00186594]), array([47.97718898])],\n",
              " [array([0.00184347]), array([48.97718898])],\n",
              " [array([0.00182099]), array([49.97718898])],\n",
              " [array([0.00179852]), array([50.97718898])],\n",
              " [array([0.00177604]), array([51.97718898])],\n",
              " [array([0.00175357]), array([52.97718898])],\n",
              " [array([0.00173109]), array([53.97718898])],\n",
              " [array([0.00170862]), array([54.97718898])],\n",
              " [array([0.00168614]), array([55.97718898])],\n",
              " [array([0.00166367]), array([56.97718898])],\n",
              " [array([0.00164119]), array([57.97718898])],\n",
              " [array([0.00161872]), array([58.97718898])],\n",
              " [array([0.00159624]), array([59.97718898])],\n",
              " [array([0.00157377]), array([60.97718898])],\n",
              " [array([0.00155129]), array([61.97718898])],\n",
              " [array([0.00152882]), array([62.97718898])],\n",
              " [array([0.00150634]), array([63.97718898])],\n",
              " [array([0.00148387]), array([64.97718898])],\n",
              " [array([0.00146139]), array([65.97718898])],\n",
              " [array([0.00143892]), array([66.97718898])],\n",
              " [array([0.00141644]), array([67.97718898])],\n",
              " [array([0.00139397]), array([68.97718898])],\n",
              " [array([0.00137149]), array([69.97718898])],\n",
              " [array([0.00134901]), array([70.97718898])],\n",
              " [array([0.00132654]), array([71.97718898])],\n",
              " [array([0.00130406]), array([72.97718898])],\n",
              " [array([0.00128159]), array([73.97718898])],\n",
              " [array([0.00125911]), array([74.97718898])],\n",
              " [array([0.00123664]), array([75.97718898])],\n",
              " [array([0.00121416]), array([76.97718898])],\n",
              " [array([0.00119169]), array([77.97718898])],\n",
              " [array([0.00116921]), array([78.97718898])],\n",
              " [array([0.00114674]), array([79.97718898])],\n",
              " [array([0.00112426]), array([80.97718898])],\n",
              " [array([0.00110179]), array([81.97718898])],\n",
              " [array([0.00107931]), array([82.97718898])],\n",
              " [array([0.00105684]), array([83.97718898])],\n",
              " [array([0.00103436]), array([84.97718898])],\n",
              " [array([0.00101189]), array([85.97718898])],\n",
              " [array([0.00098941]), array([86.97718898])],\n",
              " [array([0.00096694]), array([87.97718898])],\n",
              " [array([0.00094446]), array([88.97718898])],\n",
              " [array([0.00092199]), array([89.97718898])],\n",
              " [array([0.00089951]), array([90.97718898])],\n",
              " [array([0.00087704]), array([91.97718898])],\n",
              " [array([0.00085456]), array([92.97718898])],\n",
              " [array([0.00083209]), array([93.97718898])],\n",
              " [array([0.00080961]), array([94.97718898])],\n",
              " [array([0.00078714]), array([95.97718898])],\n",
              " [array([0.00076466]), array([96.97718898])],\n",
              " [array([0.00074219]), array([97.97718898])],\n",
              " [array([0.00071971]), array([98.97718898])],\n",
              " [array([0.00069724]), array([99.97718898])]]"
            ]
          },
          "metadata": {},
          "execution_count": 47
        }
      ]
    },
    {
      "cell_type": "code",
      "source": [
        "from sklearn.linear_model import LinearRegression"
      ],
      "metadata": {
        "id": "w-z4xI8Ox_Ze"
      },
      "execution_count": 37,
      "outputs": []
    },
    {
      "cell_type": "code",
      "source": [
        "LR = LinearRegression()\n",
        "x = np.reshape(x, (-1,1))\n",
        "y = np.reshape(y, (-1,1))\n",
        "LR.fit(x,y)"
      ],
      "metadata": {
        "colab": {
          "base_uri": "https://localhost:8080/"
        },
        "id": "n6qHvO2C1tFd",
        "outputId": "5602f2f5-f814-4ee0-9976-fd2a66b53ed1"
      },
      "execution_count": 39,
      "outputs": [
        {
          "output_type": "execute_result",
          "data": {
            "text/plain": [
              "LinearRegression()"
            ]
          },
          "metadata": {},
          "execution_count": 39
        }
      ]
    },
    {
      "cell_type": "code",
      "source": [
        "LR.coef_"
      ],
      "metadata": {
        "colab": {
          "base_uri": "https://localhost:8080/"
        },
        "id": "O6kPCrhT2-7v",
        "outputId": "28f009fe-0689-4459-d68d-ad4d69362bc7"
      },
      "execution_count": 40,
      "outputs": [
        {
          "output_type": "execute_result",
          "data": {
            "text/plain": [
              "array([[-44493.80593087]])"
            ]
          },
          "metadata": {},
          "execution_count": 40
        }
      ]
    },
    {
      "cell_type": "code",
      "source": [
        ""
      ],
      "metadata": {
        "id": "qPlYVVgz4Ixn"
      },
      "execution_count": null,
      "outputs": []
    }
  ]
}